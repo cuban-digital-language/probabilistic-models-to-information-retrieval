{
 "cells": [
  {
   "cell_type": "code",
   "execution_count": 1,
   "metadata": {},
   "outputs": [],
   "source": [
    "one = \"\"\"Los cubanos vuelven hoy a las plazas en todas las ciudades y localidades del país caribeño, en desfiles por el Día Internacional de los Trabajadores. Las movilizaciones, que en esta fecha resultan multitudinarias, se reeditan luego de dos años de suspensión por la pandemia de la Covid-19, hoy bajo control y con los menores números de contagios en muchos meses. Los desfiles fueron convocados por la Central de Trabajadores de Cuba, y a ellos se suman organizaciones de masas y sociales. Con las primeras luces del alba arrancó el desfile en Ciego de Ávila, aunque desde horas muy tempranas muchos avileños ya “desfilaban” desde sus hogares hasta la zona de concentración, cargados de carteles e iniciativas en apoyo a la Revolución y al Socialismo, informa el diario Invasor. Sin importar el orden de los bloques, lo mismo se vio en la madrugada a combatientes que irían marcando el paso de la avanzada, en señal de que nuestra Historia nos sigue guiando, que a estudiantes que cerrarían el desfile en saludo al 60 Aniversario de la UJC y al 170 Aniversario del natalicio de Nuestro Héroe Nacional. Todos, en posición de arrancada. Listos para desfilar por la plaza Máximo Gómez, Jorge Luis Tapia Fonseca, vice primer ministro y las máximas autoridades de la provincia, encabezadas por Liván Izquierdo Alonso, miembro del Comité Central y primer secretario del Comité Provincial del Partido, Tomás Alexis Martín Venegas, gobernador de la provincia y Niurka Ferrer Castillo, Secretaria General del Comité Provincial de la Central de Trabajadores de Cuba, y trabajadores destacados, saludan el Día internacional de los Trabajadores. Los primeros en hacerlo fueron los más de tres mil trabajadores de la Salud que capitanean la marcha en la ciudad cabecera. Desde el viernes los avileños estaban listos para el desfile. Miles de pinareños se dan cita en las cabeceras municipales para participar en la marcha del proletariado.  Los trabajadores y el pueblo villaclareño se concentraron antes de la salida del sol en los alrededores de la Plaza Ernesto Guevara, para participar en el desfile del Primero de Mayo y ratificar que Vamos con todo porque Cuba vive y trabaja, relata CMHW. Acompañan a los villaclareños en esta histórica jornada la Dra.C. Marta Ayala Ávila, miembro del Buró Político y directora del Centro de Ingeniería Genética y Biotecnología; Meisi Bolaños Weiss, ministra de Finanzas y precios; Yaisel Pieter Terry, secretario del Sindicato de Trabajadores de la Administración Pública; José Ramón Saborido Loidi, ministro de Educación Superior; así como las máximas autoridades del Partido y el Gobierno en la provincia. Con el bloque del Sindicato de Trabajadores de la Salud inició el desfile por el Día Internacional de los Trabajadores. Este Primero de Mayo el pueblo de Guantánamo celebra, como en toda Cuba, el Día del Proletariado Mundial. Las calles se llenan de calor y color con los guantanameros que tras dos años sin desfile presencial debido a la pandemia de la COVID-19, festejan con alegría esta fecha bajo el lema de #CubaViveYTrabaja. El desfile se dedica en el Guaso a la ciencia cubana, al aniversario 170 del natalicio de José Martí y a la seis décadas de creada la Unión de Jóvenes Comunistas, y tiene la particularidad de que los sindicatos se organizaron en cinco bloques con nombres referidos a valores incentivados por la Revolución  y cada uno de ellos representa los colores de la bandera nacional. Salvador Valdés Mesa, miembro del Buró Político y Vicepresidente de la República, preside hoy el desfile de más de 320 mil santiagueros y sus familiares, en la Plaza de la Revolución Mayor General Antonio Maceo de esta ciudad, con motivo del Día Internacional de los Trabajadores. Junto a Valdés Mesa encabezan la multitudinaria marcha José Ramón Monteagudo y Beatriz Johnson, primer secretario del Partido Comunista de Cuba y Gobernadora en el territorio, respectivamente, e Isdalis Rodríguez, segunda secretaria de la Central de Trabajadores de Cuba . René Berenguer, secretario general del comité provincial de la organización, expuso que la defensa del futuro depende del compromiso y la disciplina en cada puesto laboral, y llamó a fortalecer la empresa estatal socialista mediante el encadenamiento de los actores económicos y la transformación comunitaria. Destacó el aporte de los trabajadores indómitos a la producción de alimentos durante las jornadas de trabajo voluntarios y significó la importancia de la unidad del pueblo en defensa de la Revolución y sus conquistas. No es una consigna, aunque cada año lo devuelva como una rutina de su nuevo almanaque. Primero de Mayo... la Plaza se llena de banderas, las calles despiertan más temprano, los colores vuelan, sueñan, engalanan. Hay algarabías de retos, victorias y nuevas esperanzas. Es el día del ardor de pueblo, del ruido infinito de las fábricas, del trabajo. Nada simula. La rutina se apaga entre el sofoco de levantar las voces y los carteles, de marcar la diferencia con la iniciativa colectiva, de hacerse sentir con el grito de la promesa y la victoria, más ahora que el sacrificio es corazón y la herramienta, no importa cuál, es el mañana, la vida. Mucho hay que celebrar este domingo, quizás como nunca. Sobrevivimos la debacle de una pandemia que sacude al mundo con muerte y pobreza. ¡Qué decir nosotros, fulminados por un cruel bloqueo económico, comercial y financiero, acuñado en el imperio de los Estados Unidos! No es marchar por la Plaza de la Revolución Mayor General Vicente García, de esta ciudad. Es llevar la certeza de un día mejor, a pesar de tantas amenazas, carencias, inflación, pérdidas de familiares y compañeros, cuarentenas, sequías, altos precios, apagones y rupturas totales con la normalidad laboral y doméstica. Los Combatientes de la Revolución Cubana son los primeros en desfilar en la ciudad de Matanzas. Antes, el secretario general del Comité Provincial de la Central de Trabajadores de Cuba, Osmar Ramírez, destacó los logros con los cuales llegamos a este Primero de Mayo. En especial destacó la consagración de los trabajadores de la Salud y la vacunación al pueblo con Abdala, Soberana o2. A los combatientes le siguen un bloque de los trabajadores del Partido y del sector de la Salud. El bloque de la Salud lo conforman entre otros, el Hospital Pediátrico Eliseo Noel Caamaño, el Materno, el Provincial Comandante Faustino Pérez así como del Centro Provincial de Higiene y Epidemiología. Los estudiantes de la Universidad de Ciencias Médicas destacan por su actuar ante el enfrentamiento a la COVID-19. Cuba Vive y Trabaja. Al bloque de trabajadores de la Salud le sigue el de la Energía y Minas. En especial destacan los trabajadores de la Empresa Comercializadora de Combustibles y la Termoeléctrica Antonio Guiteras. Los trabajadores de la Educación, los Círculos Infantiles, las Escuelas Primarias , Secundarias y de la enseñanza media superior  y la Universidad de Matanzas, en al aniversario 50de instituida la Educación Superior en el Territorio, tienen presencia este Primero de Mayo.\"\"\""
   ]
  },
  {
   "cell_type": "code",
   "execution_count": 2,
   "metadata": {},
   "outputs": [],
   "source": [
    "two = \"Cada vez que Patrick Paumen paga algo en una tienda o en un restaurante causa un revuelo. Este hombre de 37 años no necesita una tarjeta bancaria o su teléfono celular para pagar. En su lugar, simplemente pone su mano izquierda cerca del lector de tarjetas sin contacto y se realiza el pago. “¡Las reacciones que recibo de los cajeros no tienen precio!” dice Paumen, un guardia de seguridad de los Países Bajos. Puede pagar con la mano porque en 2019 le implantaron un microchip de pago sin contacto debajo de la piel. “El procedimiento duele tanto como cuando alguien te pellizca la piel”, dice Paumen. La primera vez que se implantó un microchip en un ser humano fue en 1998, pero para su uso comercial solo ha estado disponible durante la última década. Cuando se trata de chips de pago implantables, la firma británico-polaca Walletmor dice que el año pasado se convirtió en la primera compañía en ponerlos a la venta. “El implante se puede usar para pagar una bebida en la playa de Río, un café en Nueva York, un corte de cabello en París, o en su supermercado local”, dice el fundador y director ejecutivo Wojtek Paprota. “Se puede usar en cualquier lugar donde se acepten pagos sin contacto”. El chip de Walletmor, que pesa menos de un gramo y es un poco más grande que un grano de arroz, está compuesto de un pequeño microchip y una antena recubierta de un biopolímero, un material de origen natural, similar al plástico. Paprota agrega que es completamente seguro, tiene los permisos necesarios, funciona inmediatamente después de ser implantado y se mantendrá en su lugar sin moverse. Tampoco requiere una batería u otra fuente de energía. La firma dice que ha vendido más de 500 chips. La tecnología que utiliza Walletmor es la NFC , el sistema de pago sin contacto en los teléfonos inteligentes. Otros implantes de pago se basan en la identificación por radiofrecuencia , que es la tecnología que normalmente se encuentra en las tarjetas físicas de débito y crédito sin contacto. Para muchos de nosotros, la idea de tener un chip de este tipo implantado en nuestro cuerpo puede ser espantonsa, pero una encuesta de 2021 hecha a más de 4.000 personas en el Reino Unido y la Unión Europea encontró que el 51% de los entrevistados lo consideraría como una opción. Sin embargo, sin dar una cifra porcentual, el informe agregó que “cuestiones como la invasividad y la seguridad son las principales inquietudes”  para los encuestados. Patrick Paumen dice que no tiene ninguno de estos temores. “Los implantes de chips contienen el mismo tipo de tecnología que la gente usa a diario”, dice, “desde llaveros para desbloquear puertas, tarjetas de transporte público como la Oyster  o tarjetas bancarias con función de pago sin contacto”. “La distancia de lectura está limitada por la pequeña antena que hay dentro del implante. El implante debe estar dentro del campo electromagnético de un lector RFID  compatible. Solo cuando hay un acoplamiento magnético entre el lector y el transpondedor el implante puede ser leído”. Agrega que no le preocupa que se pueda rastrear su paradero. “Los chips RFID se utilizan en las mascotas para identificarlas cuando se pierden”, dice. “Pero no es posible localizarlos usando un implante de chip RFID: la mascota desaparecida debe encontrarse físicamente. Luego se escanea todo el cuerpo hasta que se encuentra y lee el chip”. Sin embargo, el problema con tales chips  es si en el futuro se vuelven cada vez más avanzados y se llenan de datos personales. Y, a su vez, si esta información es segura y si, de hecho, puede ser rastreada. La experta en tecnología financiera o fintech Theodora Lau es coautora del libro “Beyond Good: How Technology Is Leading A Business Driven Revolution” . Lau dice que los chips de pago implantados son solo “una extensión del internet de las cosas”. Con eso se refiere a otra nueva forma de conectarse e intercambiar datos. Sin embargo, aunque dice que muchas personas están abiertas a esta idea, ya que haría el pago de las cosas más rápido y fácil, deben sopesarse los beneficios y los riesgos. Especialmente a medida que los chips incorporados llevan cada vez más información personal. “¿Cuánto estamos dispuestos a pagar en aras de la comodidad? ¿Dónde trazamos la línea cuando se trata de privacidad y seguridad? ¿Quién protegerá la infraestructura vital y los humanos que forman parte de ella?”, se pregunta Theodora Lau. Nada Kakabadse, profesora de política, gobernanza y ética en la Escuela de Negocios Henley de la Universidad de Reading, también se muestra cautelosa sobre el futuro de los chips integrados más avanzados. “¿Y quién posee los datos? ¿Quién tiene acceso a ellos? Y, ¿es ético ponerle un chip a la gente como hacemos con las mascotas?”, se cuestiona. El resultado, advierte, podría ser “la pérdida de poder de muchos en beneficio de unos pocos”. Steven Northam, profesor titular de innovación y emprendimiento en la Universidad de Winchester, dice que las preocupaciones son injustificadas. Además de su trabajo académico, es el fundador de la firma británica BioTeq, que fabrica chips de este tipo, sin contacto e implantados, desde 2017. Sus implantes están dirigidos a personas con discapacidad que pueden utilizarlos para abrir puertas automáticamente. “Tenemos consultas diarias y hemos realizado más de 500 implantes en el Reino Unido, pero la covid ha hecho que todo se frene un poco”, cuenta. “Esta tecnología se ha utilizado en animales durante años. Son objetos muy pequeños e inertes. No hay riesgos”, argumenta. De vuelta en los Países Bajos, Paumen se describe a sí mismo como un “biohacker”, alguien que pone piezas de tecnología en su cuerpo para tratar de mejorar su rendimiento. Tiene 32 implantes en total, incluidos chips para abrir puertas e imanes incrustados. “La tecnología sigue evolucionando, así que sigo recolectando más”, dice. “Mis implantes mejoran mi cuerpo. No me gustaría vivir sin ellos”. “Siempre habrá personas que no quieran modificar su cuerpo. Deberíamos respetar eso, y ellos deberían respetarnos como biohackers”. \""
   ]
  },
  {
   "cell_type": "code",
   "execution_count": 3,
   "metadata": {},
   "outputs": [
    {
     "name": "stderr",
     "output_type": "stream",
     "text": [
      "/Users/dany/.local/share/virtualenvs/cuba-digital-lang-9Kd57kqM/lib/python3.9/site-packages/tqdm/auto.py:22: TqdmWarning: IProgress not found. Please update jupyter and ipywidgets. See https://ipywidgets.readthedocs.io/en/stable/user_install.html\n",
      "  from .autonotebook import tqdm as notebook_tqdm\n"
     ]
    }
   ],
   "source": [
    "from classic_model import ProbabilisticModel\n",
    "\n",
    "model = ProbabilisticModel()"
   ]
  },
  {
   "cell_type": "code",
   "execution_count": 7,
   "metadata": {},
   "outputs": [
    {
     "name": "stderr",
     "output_type": "stream",
     "text": [
      "[################################################] precomputing all values 100%\n",
      "[####################################################] find named entities 100%\n",
      "[#########################################################] numerate terms 100%\n",
      "[###################################################] precomputing weights 100%\n"
     ]
    }
   ],
   "source": [
    "model.fit([one, two])"
   ]
  },
  {
   "cell_type": "code",
   "execution_count": 6,
   "metadata": {},
   "outputs": [],
   "source": [
    "result = model.sorted_and_find('Siempre habrá personas que no quieran modificar su cuerpo')"
   ]
  },
  {
   "cell_type": "code",
   "execution_count": null,
   "metadata": {},
   "outputs": [],
   "source": []
  }
 ],
 "metadata": {
  "kernelspec": {
   "display_name": "cuba-digital-lang",
   "language": "python",
   "name": "cuba-digital-lang"
  },
  "language_info": {
   "codemirror_mode": {
    "name": "ipython",
    "version": 3
   },
   "file_extension": ".py",
   "mimetype": "text/x-python",
   "name": "python",
   "nbconvert_exporter": "python",
   "pygments_lexer": "ipython3",
   "version": "3.9.10"
  },
  "orig_nbformat": 4
 },
 "nbformat": 4,
 "nbformat_minor": 2
}
